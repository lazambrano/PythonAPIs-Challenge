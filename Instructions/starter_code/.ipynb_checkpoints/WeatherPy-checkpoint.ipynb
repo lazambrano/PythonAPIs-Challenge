{
 "cells": [
  {
   "cell_type": "markdown",
   "metadata": {},
   "source": [
    "# WeatherPy\n",
    "----\n",
    "\n",
    "#### Note\n",
    "* Instructions have been included for each segment. You do not have to follow them exactly, but they are included to help you think through the steps."
   ]
  },
  {
   "cell_type": "markdown",
   "metadata": {},
   "source": [
    "3 observational trends:\n",
    "\n",
    "1.  Temputures seem to have clear coorelations to latitude.\n",
    "2.  The weather bocomes warmer as one approaches the equator (0 degree latitude).\n",
    "3.  No strong coorelation between wind speed and cloudiness in Northern Cities. "
   ]
  },
  {
   "cell_type": "code",
   "execution_count": 1,
   "metadata": {
    "scrolled": true
   },
   "outputs": [],
   "source": [
    "# Dependencies and Setup\n",
    "import matplotlib.pyplot as plt\n",
    "import pandas as pd\n",
    "import numpy as np\n",
    "import requests\n",
    "import time\n",
    "from scipy.stats import linregress\n",
    "\n",
    "#from pprint import pprint\n",
    "\n",
    "# Import API key\n",
    "from api_keys import weather_api_key\n",
    "\n",
    "# Incorporated citipy to determine city based on latitude and longitude\n",
    "from citipy import citipy\n",
    "\n",
    "# Output File (CSV)\n",
    "\n",
    "output_data_file = \"output_data/cities.csv\"\n",
    "\n",
    "# Range of latitudes and longitudes\n",
    "lat_range = (-90, 90)\n",
    "lng_range = (-180, 180)"
   ]
  },
  {
   "cell_type": "markdown",
   "metadata": {},
   "source": [
    "## Generate Cities List"
   ]
  },
  {
   "cell_type": "code",
   "execution_count": 2,
   "metadata": {},
   "outputs": [
    {
     "data": {
      "text/plain": [
       "614"
      ]
     },
     "execution_count": 2,
     "metadata": {},
     "output_type": "execute_result"
    }
   ],
   "source": [
    "# List for holding lat_lngs and cities\n",
    "lat_lngs = []\n",
    "cities = []\n",
    "\n",
    "# Create a set of random lat and lng combinations\n",
    "lats = np.random.uniform(lat_range[0], lat_range[1], size=1500)\n",
    "lngs = np.random.uniform(lng_range[0], lng_range[1], size=1500)\n",
    "lat_lngs = zip(lats, lngs)\n",
    "\n",
    "# Identify nearest city for each lat, lng combination\n",
    "for lat_lng in lat_lngs:\n",
    "    city = citipy.nearest_city(lat_lng[0], lat_lng[1]).city_name\n",
    "    \n",
    "    # If the city is unique, then add it to a our cities list\n",
    "    if city not in cities:\n",
    "        \n",
    "        cities.append(city)\n",
    "        \n",
    "\n",
    "\n",
    "# Print the city count to confirm sufficient count\n",
    "len(cities)\n"
   ]
  },
  {
   "cell_type": "code",
   "execution_count": 3,
   "metadata": {},
   "outputs": [
    {
     "data": {
      "text/html": [
       "<div>\n",
       "<style scoped>\n",
       "    .dataframe tbody tr th:only-of-type {\n",
       "        vertical-align: middle;\n",
       "    }\n",
       "\n",
       "    .dataframe tbody tr th {\n",
       "        vertical-align: top;\n",
       "    }\n",
       "\n",
       "    .dataframe thead th {\n",
       "        text-align: right;\n",
       "    }\n",
       "</style>\n",
       "<table border=\"1\" class=\"dataframe\">\n",
       "  <thead>\n",
       "    <tr style=\"text-align: right;\">\n",
       "      <th></th>\n",
       "      <th>City</th>\n",
       "    </tr>\n",
       "  </thead>\n",
       "  <tbody>\n",
       "    <tr>\n",
       "      <th>0</th>\n",
       "      <td>arraial do cabo</td>\n",
       "    </tr>\n",
       "    <tr>\n",
       "      <th>1</th>\n",
       "      <td>port elizabeth</td>\n",
       "    </tr>\n",
       "    <tr>\n",
       "      <th>2</th>\n",
       "      <td>barentsburg</td>\n",
       "    </tr>\n",
       "    <tr>\n",
       "      <th>3</th>\n",
       "      <td>the pas</td>\n",
       "    </tr>\n",
       "    <tr>\n",
       "      <th>4</th>\n",
       "      <td>amderma</td>\n",
       "    </tr>\n",
       "  </tbody>\n",
       "</table>\n",
       "</div>"
      ],
      "text/plain": [
       "              City\n",
       "0  arraial do cabo\n",
       "1   port elizabeth\n",
       "2      barentsburg\n",
       "3          the pas\n",
       "4          amderma"
      ]
     },
     "execution_count": 3,
     "metadata": {},
     "output_type": "execute_result"
    }
   ],
   "source": [
    "cities_df = pd.DataFrame(cities,columns=[\"City\"])\n",
    "cities_df.head()\n"
   ]
  },
  {
   "cell_type": "markdown",
   "metadata": {},
   "source": [
    "\n",
    "\n",
    "### Perform API Calls\n",
    "* Perform a weather check on each city using a series of successive API calls.\n",
    "* Include a print log of each city as it'sbeing processed (with the city number and city name).\n"
   ]
  },
  {
   "cell_type": "code",
   "execution_count": 5,
   "metadata": {},
   "outputs": [
    {
     "name": "stdout",
     "output_type": "stream",
     "text": [
      "Beginning Data Retrieval\n",
      "-----------------------------\n",
      "Processing Record 1 of Set 1| arraial do cabo\n",
      "Processing Record 2 of Set 1| port elizabeth\n",
      "Processing Record 3 of Set 1| barentsburg\n",
      "City not found, skipping...\n",
      "Processing Record 4 of Set 1| the pas\n",
      "Processing Record 5 of Set 1| amderma\n",
      "City not found, skipping...\n",
      "Processing Record 6 of Set 1| new norfolk\n",
      "Processing Record 7 of Set 1| chokurdakh\n",
      "Processing Record 8 of Set 1| butaritari\n",
      "Processing Record 9 of Set 1| berlevag\n",
      "Processing Record 10 of Set 1| rondonopolis\n",
      "Processing Record 11 of Set 1| belmonte\n",
      "Processing Record 12 of Set 1| kulhudhuffushi\n",
      "Processing Record 13 of Set 1| padilla\n",
      "Processing Record 14 of Set 1| hithadhoo\n",
      "Processing Record 15 of Set 1| santa marinella\n",
      "Processing Record 16 of Set 1| niteroi\n",
      "Processing Record 17 of Set 1| port hardy\n",
      "Processing Record 18 of Set 1| buala\n",
      "Processing Record 19 of Set 1| calabar\n",
      "Processing Record 20 of Set 1| port alfred\n",
      "Processing Record 21 of Set 1| bethel\n",
      "Processing Record 22 of Set 1| mitu\n",
      "Processing Record 23 of Set 1| illoqqortoormiut\n",
      "City not found, skipping...\n",
      "Processing Record 24 of Set 1| goderich\n",
      "Processing Record 25 of Set 1| jaslo\n",
      "Processing Record 26 of Set 1| cape town\n",
      "Processing Record 27 of Set 1| mataura\n",
      "Processing Record 28 of Set 1| praya\n",
      "Processing Record 29 of Set 1| pemba\n",
      "Processing Record 30 of Set 1| baykit\n",
      "Processing Record 31 of Set 1| xiongzhou\n",
      "Processing Record 32 of Set 1| muros\n",
      "Processing Record 33 of Set 1| guerrero negro\n",
      "Processing Record 34 of Set 1| qaanaaq\n",
      "Processing Record 35 of Set 1| bato\n",
      "Processing Record 36 of Set 1| rikitea\n",
      "Processing Record 37 of Set 1| tasiilaq\n",
      "Processing Record 38 of Set 1| bulandshahr\n",
      "Processing Record 39 of Set 1| hermanus\n",
      "Processing Record 40 of Set 1| bandarbeyla\n",
      "Processing Record 41 of Set 1| karkaralinsk\n",
      "City not found, skipping...\n",
      "Processing Record 42 of Set 1| georgetown\n",
      "Processing Record 43 of Set 1| hilo\n",
      "Processing Record 44 of Set 1| albany\n",
      "Processing Record 45 of Set 1| victoria\n",
      "Processing Record 46 of Set 1| olinda\n",
      "Processing Record 47 of Set 1| eenhana\n",
      "Processing Record 48 of Set 1| hobart\n",
      "Processing Record 49 of Set 1| ushuaia\n",
      "Processing Record 1 of Set 2| tuatapere\n",
      "Processing Record 2 of Set 2| yangambi\n",
      "Processing Record 3 of Set 2| machinga\n",
      "Processing Record 4 of Set 2| salalah\n",
      "Processing Record 5 of Set 2| atuona\n",
      "Processing Record 6 of Set 2| ipora\n",
      "Processing Record 7 of Set 2| samarinda\n",
      "Processing Record 8 of Set 2| east london\n",
      "Processing Record 9 of Set 2| esperance\n",
      "Processing Record 10 of Set 2| venissieux\n",
      "Processing Record 11 of Set 2| ust-uda\n",
      "Processing Record 12 of Set 2| makakilo city\n",
      "Processing Record 13 of Set 2| bogen\n",
      "Processing Record 14 of Set 2| saint george\n",
      "Processing Record 15 of Set 2| saint-philippe\n",
      "Processing Record 16 of Set 2| port hedland\n",
      "Processing Record 17 of Set 2| mys shmidta\n",
      "City not found, skipping...\n",
      "Processing Record 18 of Set 2| longkou\n",
      "Processing Record 19 of Set 2| alice\n",
      "Processing Record 20 of Set 2| kapaa\n",
      "Processing Record 21 of Set 2| cidreira\n",
      "Processing Record 22 of Set 2| souillac\n",
      "Processing Record 23 of Set 2| fairbanks\n",
      "Processing Record 24 of Set 2| upernavik\n",
      "Processing Record 25 of Set 2| bilibino\n",
      "Processing Record 26 of Set 2| pilot butte\n",
      "Processing Record 27 of Set 2| bluff\n",
      "Processing Record 28 of Set 2| nikolskoye\n",
      "Processing Record 29 of Set 2| busselton\n",
      "Processing Record 30 of Set 2| mahebourg\n",
      "Processing Record 31 of Set 2| lorengau\n",
      "Processing Record 32 of Set 2| thano bula khan\n",
      "City not found, skipping...\n",
      "Processing Record 33 of Set 2| vaini\n",
      "Processing Record 34 of Set 2| meyungs\n",
      "City not found, skipping...\n",
      "Processing Record 35 of Set 2| palmer\n",
      "Processing Record 36 of Set 2| severnoye\n",
      "Processing Record 37 of Set 2| nioro\n",
      "Processing Record 38 of Set 2| hede\n",
      "Processing Record 39 of Set 2| viligili\n",
      "City not found, skipping...\n",
      "Processing Record 40 of Set 2| mar del plata\n",
      "Processing Record 41 of Set 2| teknaf\n",
      "Processing Record 42 of Set 2| kahului\n",
      "Processing Record 43 of Set 2| pavlogradka\n",
      "Processing Record 44 of Set 2| zhigansk\n",
      "Processing Record 45 of Set 2| cayenne\n",
      "Processing Record 46 of Set 2| taolanaro\n",
      "City not found, skipping...\n",
      "Processing Record 47 of Set 2| dikson\n",
      "Processing Record 48 of Set 2| isangel\n",
      "Processing Record 49 of Set 2| bambous virieux\n",
      "Processing Record 1 of Set 3| saskylakh\n",
      "Processing Record 2 of Set 3| carnarvon\n",
      "Processing Record 3 of Set 3| seoul\n",
      "Processing Record 4 of Set 3| yellowknife\n",
      "Processing Record 5 of Set 3| tsihombe\n",
      "City not found, skipping...\n",
      "Processing Record 6 of Set 3| port keats\n",
      "Processing Record 7 of Set 3| attawapiskat\n",
      "City not found, skipping...\n",
      "Processing Record 8 of Set 3| barrow\n",
      "Processing Record 9 of Set 3| tres arroyos\n",
      "Processing Record 10 of Set 3| san marcos\n",
      "Processing Record 11 of Set 3| nizhneyansk\n",
      "City not found, skipping...\n",
      "Processing Record 12 of Set 3| bredasdorp\n",
      "Processing Record 13 of Set 3| margate\n",
      "Processing Record 14 of Set 3| saint-pacome\n",
      "City not found, skipping...\n",
      "Processing Record 15 of Set 3| snezhnogorsk\n",
      "Processing Record 16 of Set 3| hovd\n",
      "Processing Record 17 of Set 3| waingapu\n",
      "Processing Record 18 of Set 3| calvinia\n",
      "Processing Record 19 of Set 3| sentyabrskiy\n",
      "City not found, skipping...\n",
      "Processing Record 20 of Set 3| port blair\n",
      "Processing Record 21 of Set 3| puerto ayora\n",
      "Processing Record 22 of Set 3| clyde river\n",
      "Processing Record 23 of Set 3| belushya guba\n",
      "City not found, skipping...\n",
      "Processing Record 24 of Set 3| houma\n",
      "Processing Record 25 of Set 3| necochea\n",
      "Processing Record 26 of Set 3| teacapan\n",
      "Processing Record 27 of Set 3| pacific grove\n",
      "Processing Record 28 of Set 3| kijang\n",
      "Processing Record 29 of Set 3| naze\n",
      "Processing Record 30 of Set 3| monrovia\n",
      "Processing Record 31 of Set 3| chukhloma\n",
      "Processing Record 32 of Set 3| sur\n",
      "Processing Record 33 of Set 3| salamanca\n",
      "Processing Record 34 of Set 3| mersing\n",
      "Processing Record 35 of Set 3| arusha\n",
      "Processing Record 36 of Set 3| flagstaff\n",
      "Processing Record 37 of Set 3| narsaq\n",
      "Processing Record 38 of Set 3| ardabil\n",
      "Processing Record 39 of Set 3| porgera\n",
      "Processing Record 40 of Set 3| flinders\n",
      "Processing Record 41 of Set 3| lolua\n",
      "City not found, skipping...\n",
      "Processing Record 42 of Set 3| kiamba\n",
      "Processing Record 43 of Set 3| udachnyy\n",
      "Processing Record 44 of Set 3| ilulissat\n",
      "Processing Record 45 of Set 3| cuiluan\n",
      "Processing Record 46 of Set 3| punta arenas\n",
      "Processing Record 47 of Set 3| jamestown\n",
      "Processing Record 48 of Set 3| bosanski brod\n",
      "Processing Record 49 of Set 3| palabuhanratu\n",
      "City not found, skipping...\n",
      "Processing Record 1 of Set 4| chuguyevka\n",
      "Processing Record 2 of Set 4| coihaique\n",
      "Processing Record 3 of Set 4| geraldton\n",
      "Processing Record 4 of Set 4| port macquarie\n",
      "Processing Record 5 of Set 4| katsuura\n",
      "Processing Record 6 of Set 4| ampanihy\n",
      "Processing Record 7 of Set 4| charters towers\n",
      "Processing Record 8 of Set 4| harindanga\n",
      "Processing Record 9 of Set 4| lebu\n",
      "Processing Record 10 of Set 4| hay river\n",
      "Processing Record 11 of Set 4| petit goave\n",
      "Processing Record 12 of Set 4| roald\n",
      "Processing Record 13 of Set 4| cockburn town\n",
      "Processing Record 14 of Set 4| vaitape\n",
      "Processing Record 15 of Set 4| lagoa\n",
      "Processing Record 16 of Set 4| kismayo\n",
      "Processing Record 17 of Set 4| addi ugri\n",
      "City not found, skipping...\n",
      "Processing Record 18 of Set 4| inuvik\n",
      "Processing Record 19 of Set 4| diffa\n",
      "Processing Record 20 of Set 4| synya\n",
      "Processing Record 21 of Set 4| torbay\n",
      "Processing Record 22 of Set 4| mrirt\n",
      "City not found, skipping...\n",
      "Processing Record 23 of Set 4| cherskiy\n",
      "Processing Record 24 of Set 4| praia da vitoria\n",
      "Processing Record 25 of Set 4| kununurra\n",
      "Processing Record 26 of Set 4| aguimes\n",
      "Processing Record 27 of Set 4| vestmannaeyjar\n",
      "Processing Record 28 of Set 4| kavieng\n",
      "Processing Record 29 of Set 4| provideniya\n",
      "Processing Record 30 of Set 4| khatanga\n",
      "Processing Record 31 of Set 4| tubruq\n",
      "City not found, skipping...\n",
      "Processing Record 32 of Set 4| lixourion\n",
      "Processing Record 33 of Set 4| satitoa\n",
      "City not found, skipping...\n",
      "Processing Record 34 of Set 4| severo-yeniseyskiy\n",
      "Processing Record 35 of Set 4| vaitupu\n",
      "City not found, skipping...\n",
      "Processing Record 36 of Set 4| semporna\n",
      "Processing Record 37 of Set 4| warrington\n",
      "Processing Record 38 of Set 4| kyra\n",
      "Processing Record 39 of Set 4| yatou\n",
      "Processing Record 40 of Set 4| srednekolymsk\n"
     ]
    },
    {
     "name": "stdout",
     "output_type": "stream",
     "text": [
      "Processing Record 41 of Set 4| cockburn harbour\n",
      "City not found, skipping...\n",
      "Processing Record 42 of Set 4| nanakuli\n",
      "Processing Record 43 of Set 4| la asuncion\n",
      "Processing Record 44 of Set 4| ostersund\n",
      "Processing Record 45 of Set 4| bubaque\n",
      "Processing Record 46 of Set 4| hit\n",
      "Processing Record 47 of Set 4| coquimbo\n",
      "Processing Record 48 of Set 4| chuy\n",
      "Processing Record 49 of Set 4| belogorsk\n",
      "Processing Record 1 of Set 5| semirom\n",
      "Processing Record 2 of Set 5| avarua\n",
      "Processing Record 3 of Set 5| mecca\n",
      "Processing Record 4 of Set 5| progreso\n",
      "Processing Record 5 of Set 5| la ronge\n",
      "Processing Record 6 of Set 5| ladnun\n",
      "Processing Record 7 of Set 5| kristianstad\n",
      "Processing Record 8 of Set 5| severnyy\n",
      "Processing Record 9 of Set 5| sinkat\n",
      "City not found, skipping...\n",
      "Processing Record 10 of Set 5| svilajnac\n",
      "Processing Record 11 of Set 5| abong mbang\n",
      "Processing Record 12 of Set 5| tiksi\n",
      "Processing Record 13 of Set 5| louisbourg\n",
      "City not found, skipping...\n",
      "Processing Record 14 of Set 5| kenai\n",
      "Processing Record 15 of Set 5| castro\n",
      "Processing Record 16 of Set 5| peruc\n",
      "Processing Record 17 of Set 5| garissa\n",
      "Processing Record 18 of Set 5| mnogovershinnyy\n",
      "Processing Record 19 of Set 5| kaeo\n",
      "Processing Record 20 of Set 5| kaa-khem\n",
      "Processing Record 21 of Set 5| pierre\n",
      "Processing Record 22 of Set 5| kaoma\n",
      "Processing Record 23 of Set 5| burica\n",
      "City not found, skipping...\n",
      "Processing Record 24 of Set 5| ornskoldsvik\n",
      "Processing Record 25 of Set 5| phan rang\n",
      "City not found, skipping...\n",
      "Processing Record 26 of Set 5| tuktoyaktuk\n",
      "Processing Record 27 of Set 5| deputatskiy\n",
      "Processing Record 28 of Set 5| nome\n",
      "Processing Record 29 of Set 5| tieli\n",
      "Processing Record 30 of Set 5| husavik\n",
      "Processing Record 31 of Set 5| rawson\n",
      "Processing Record 32 of Set 5| mpika\n",
      "Processing Record 33 of Set 5| ola\n",
      "Processing Record 34 of Set 5| mogapi\n",
      "Processing Record 35 of Set 5| galiwinku\n",
      "City not found, skipping...\n",
      "Processing Record 36 of Set 5| bonavista\n",
      "Processing Record 37 of Set 5| rorvik\n",
      "Processing Record 38 of Set 5| esik\n",
      "Processing Record 39 of Set 5| longyearbyen\n",
      "Processing Record 40 of Set 5| alta floresta\n",
      "Processing Record 41 of Set 5| kristiansund\n",
      "Processing Record 42 of Set 5| samusu\n",
      "City not found, skipping...\n",
      "Processing Record 43 of Set 5| christchurch\n",
      "Processing Record 44 of Set 5| skjervoy\n",
      "Processing Record 45 of Set 5| codrington\n",
      "Processing Record 46 of Set 5| ust-maya\n",
      "Processing Record 47 of Set 5| broome\n",
      "Processing Record 48 of Set 5| skibbereen\n",
      "Processing Record 49 of Set 5| qaqortoq\n",
      "Processing Record 1 of Set 6| sault sainte marie\n",
      "Processing Record 2 of Set 6| nyurba\n",
      "Processing Record 3 of Set 6| chaadayevka\n",
      "Processing Record 4 of Set 6| samalaeulu\n",
      "City not found, skipping...\n",
      "Processing Record 5 of Set 6| jining\n",
      "Processing Record 6 of Set 6| ribeira grande\n",
      "Processing Record 7 of Set 6| latung\n",
      "Processing Record 8 of Set 6| hamilton\n",
      "Processing Record 9 of Set 6| tecuala\n",
      "Processing Record 10 of Set 6| northam\n",
      "Processing Record 11 of Set 6| bengkulu\n",
      "Processing Record 12 of Set 6| altamont\n",
      "Processing Record 13 of Set 6| maragogi\n",
      "Processing Record 14 of Set 6| gornopravdinsk\n",
      "Processing Record 15 of Set 6| darlawn\n",
      "Processing Record 16 of Set 6| atka\n",
      "City not found, skipping...\n",
      "Processing Record 17 of Set 6| hami\n",
      "Processing Record 18 of Set 6| rumoi\n",
      "Processing Record 19 of Set 6| majene\n",
      "Processing Record 20 of Set 6| marawi\n",
      "Processing Record 21 of Set 6| xicotencatl\n",
      "Processing Record 22 of Set 6| kruisfontein\n",
      "Processing Record 23 of Set 6| dien bien\n",
      "City not found, skipping...\n",
      "Processing Record 24 of Set 6| puerto quijarro\n",
      "Processing Record 25 of Set 6| severo-kurilsk\n",
      "Processing Record 26 of Set 6| ancud\n",
      "Processing Record 27 of Set 6| dagda\n",
      "Processing Record 28 of Set 6| acapulco\n",
      "Processing Record 29 of Set 6| tumannyy\n",
      "City not found, skipping...\n",
      "Processing Record 30 of Set 6| hofn\n",
      "Processing Record 31 of Set 6| grand gaube\n",
      "Processing Record 32 of Set 6| ngorongoro\n",
      "Processing Record 33 of Set 6| thompson\n",
      "Processing Record 34 of Set 6| mayumba\n",
      "Processing Record 35 of Set 6| manokwari\n",
      "Processing Record 36 of Set 6| chagda\n",
      "City not found, skipping...\n",
      "Processing Record 37 of Set 6| rungata\n",
      "City not found, skipping...\n",
      "Processing Record 38 of Set 6| salto\n",
      "Processing Record 39 of Set 6| cabo san lucas\n",
      "Processing Record 40 of Set 6| minden\n",
      "Processing Record 41 of Set 6| alofi\n",
      "Processing Record 42 of Set 6| laguna\n",
      "Processing Record 43 of Set 6| amapa\n",
      "Processing Record 44 of Set 6| nanortalik\n",
      "Processing Record 45 of Set 6| norman wells\n",
      "Processing Record 46 of Set 6| constitucion\n",
      "Processing Record 47 of Set 6| pavino\n",
      "Processing Record 48 of Set 6| kaitangata\n",
      "Processing Record 49 of Set 6| port moresby\n",
      "Processing Record 1 of Set 7| xining\n",
      "Processing Record 2 of Set 7| saleaula\n",
      "City not found, skipping...\n",
      "Processing Record 3 of Set 7| homnabad\n",
      "Processing Record 4 of Set 7| itumba\n",
      "Processing Record 5 of Set 7| ceres\n",
      "Processing Record 6 of Set 7| coracora\n",
      "Processing Record 7 of Set 7| omboue\n",
      "Processing Record 8 of Set 7| claveria\n",
      "Processing Record 9 of Set 7| bowen\n",
      "Processing Record 10 of Set 7| ulaangom\n",
      "Processing Record 11 of Set 7| zeya\n",
      "Processing Record 12 of Set 7| mitsamiouli\n",
      "Processing Record 13 of Set 7| college\n",
      "Processing Record 14 of Set 7| puerto escondido\n",
      "Processing Record 15 of Set 7| tangjiazhuang\n",
      "Processing Record 16 of Set 7| fort saint john\n",
      "City not found, skipping...\n",
      "Processing Record 17 of Set 7| gat\n",
      "Processing Record 18 of Set 7| zabaykalsk\n",
      "Processing Record 19 of Set 7| tura\n",
      "Processing Record 20 of Set 7| sao filipe\n",
      "Processing Record 21 of Set 7| awjilah\n",
      "Processing Record 22 of Set 7| sorland\n",
      "Processing Record 23 of Set 7| sao jose da coroa grande\n",
      "Processing Record 24 of Set 7| truth or consequences\n",
      "Processing Record 25 of Set 7| alice springs\n",
      "Processing Record 26 of Set 7| banjar\n",
      "Processing Record 27 of Set 7| luderitz\n",
      "Processing Record 28 of Set 7| angoche\n",
      "Processing Record 29 of Set 7| tabiauea\n",
      "City not found, skipping...\n",
      "Processing Record 30 of Set 7| keetmanshoop\n",
      "Processing Record 31 of Set 7| susangerd\n",
      "Processing Record 32 of Set 7| faanui\n",
      "Processing Record 33 of Set 7| kawalu\n",
      "Processing Record 34 of Set 7| eyl\n",
      "Processing Record 35 of Set 7| zeerust\n",
      "Processing Record 36 of Set 7| maku\n",
      "Processing Record 37 of Set 7| atambua\n",
      "Processing Record 38 of Set 7| achiotal\n",
      "City not found, skipping...\n",
      "Processing Record 39 of Set 7| ponta do sol\n",
      "Processing Record 40 of Set 7| araouane\n",
      "Processing Record 41 of Set 7| pevek\n",
      "Processing Record 42 of Set 7| high level\n",
      "Processing Record 43 of Set 7| saldanha\n",
      "Processing Record 44 of Set 7| lima\n",
      "Processing Record 45 of Set 7| vanavara\n",
      "Processing Record 46 of Set 7| vardo\n",
      "Processing Record 47 of Set 7| taltal\n",
      "Processing Record 48 of Set 7| roma\n",
      "Processing Record 49 of Set 7| raga\n",
      "Processing Record 1 of Set 8| santa rosa\n",
      "Processing Record 2 of Set 8| oneonta\n",
      "Processing Record 3 of Set 8| denia\n",
      "Processing Record 4 of Set 8| havoysund\n",
      "Processing Record 5 of Set 8| saint-pierre\n",
      "Processing Record 6 of Set 8| marv dasht\n",
      "City not found, skipping...\n",
      "Processing Record 7 of Set 8| ewo\n",
      "Processing Record 8 of Set 8| leningradskiy\n",
      "Processing Record 9 of Set 8| port-gentil\n",
      "Processing Record 10 of Set 8| khasan\n",
      "Processing Record 11 of Set 8| smithers\n",
      "Processing Record 12 of Set 8| ullapool\n",
      "Processing Record 13 of Set 8| zaltan\n",
      "Processing Record 14 of Set 8| yakeshi\n",
      "Processing Record 15 of Set 8| mana\n",
      "Processing Record 16 of Set 8| basco\n",
      "Processing Record 17 of Set 8| zhanakorgan\n",
      "Processing Record 18 of Set 8| viedma\n",
      "Processing Record 19 of Set 8| pisco\n",
      "Processing Record 20 of Set 8| darnah\n",
      "Processing Record 21 of Set 8| lebedyn\n",
      "Processing Record 22 of Set 8| turukhansk\n",
      "Processing Record 23 of Set 8| kodiak\n",
      "Processing Record 24 of Set 8| moranbah\n",
      "Processing Record 25 of Set 8| syracuse\n",
      "Processing Record 26 of Set 8| senneterre\n",
      "Processing Record 27 of Set 8| san patricio\n",
      "Processing Record 28 of Set 8| sibolga\n",
      "Processing Record 29 of Set 8| collie\n",
      "Processing Record 30 of Set 8| riosucio\n",
      "Processing Record 31 of Set 8| verkhoyansk\n",
      "Processing Record 32 of Set 8| los llanos de aridane\n",
      "Processing Record 33 of Set 8| sabang\n",
      "Processing Record 34 of Set 8| sitka\n",
      "Processing Record 35 of Set 8| valparaiso\n",
      "Processing Record 36 of Set 8| hienghene\n",
      "Processing Record 37 of Set 8| uarini\n"
     ]
    },
    {
     "name": "stdout",
     "output_type": "stream",
     "text": [
      "Processing Record 38 of Set 8| ati\n",
      "Processing Record 39 of Set 8| pangody\n",
      "Processing Record 40 of Set 8| jasper\n",
      "Processing Record 41 of Set 8| amahai\n",
      "Processing Record 42 of Set 8| corinto\n",
      "Processing Record 43 of Set 8| janauba\n",
      "Processing Record 44 of Set 8| show low\n",
      "Processing Record 45 of Set 8| aklavik\n",
      "Processing Record 46 of Set 8| colac\n",
      "Processing Record 47 of Set 8| baiyin\n",
      "Processing Record 48 of Set 8| broken hill\n",
      "Processing Record 49 of Set 8| okato\n",
      "Processing Record 1 of Set 9| san jose\n",
      "Processing Record 2 of Set 9| bloomingdale\n",
      "Processing Record 3 of Set 9| grand river south east\n",
      "City not found, skipping...\n",
      "Processing Record 4 of Set 9| ondjiva\n",
      "Processing Record 5 of Set 9| pitimbu\n",
      "Processing Record 6 of Set 9| yershov\n",
      "Processing Record 7 of Set 9| inyonga\n",
      "Processing Record 8 of Set 9| brainerd\n",
      "Processing Record 9 of Set 9| magaria\n",
      "Processing Record 10 of Set 9| ahipara\n",
      "Processing Record 11 of Set 9| iqaluit\n",
      "Processing Record 12 of Set 9| andros town\n",
      "Processing Record 13 of Set 9| sayyan\n",
      "Processing Record 14 of Set 9| aioi\n",
      "Processing Record 15 of Set 9| sebina\n",
      "Processing Record 16 of Set 9| chiang kham\n",
      "Processing Record 17 of Set 9| nautla\n",
      "Processing Record 18 of Set 9| tuy hoa\n",
      "Processing Record 19 of Set 9| bairiki\n",
      "Processing Record 20 of Set 9| lianran\n",
      "Processing Record 21 of Set 9| mount gambier\n",
      "Processing Record 22 of Set 9| chimbote\n",
      "Processing Record 23 of Set 9| lompoc\n",
      "Processing Record 24 of Set 9| natal\n",
      "Processing Record 25 of Set 9| ray\n",
      "Processing Record 26 of Set 9| tuni\n",
      "Processing Record 27 of Set 9| nantucket\n",
      "Processing Record 28 of Set 9| tayturka\n",
      "Processing Record 29 of Set 9| utiroa\n",
      "City not found, skipping...\n",
      "Processing Record 30 of Set 9| puerto carreno\n",
      "Processing Record 31 of Set 9| san policarpo\n",
      "Processing Record 32 of Set 9| dingle\n",
      "Processing Record 33 of Set 9| kalagarh\n",
      "Processing Record 34 of Set 9| ngukurr\n",
      "City not found, skipping...\n",
      "Processing Record 35 of Set 9| petropavlovsk-kamchatskiy\n",
      "Processing Record 36 of Set 9| kannangad\n",
      "Processing Record 37 of Set 9| liverpool\n",
      "Processing Record 38 of Set 9| acajutla\n",
      "Processing Record 39 of Set 9| nguiu\n",
      "City not found, skipping...\n",
      "Processing Record 40 of Set 9| cairns\n",
      "Processing Record 41 of Set 9| guarapari\n",
      "Processing Record 42 of Set 9| estacion coahuila\n",
      "Processing Record 43 of Set 9| urfa\n",
      "City not found, skipping...\n",
      "Processing Record 44 of Set 9| dukat\n",
      "Processing Record 45 of Set 9| kuching\n",
      "Processing Record 46 of Set 9| terney\n",
      "Processing Record 47 of Set 9| taburi\n",
      "City not found, skipping...\n",
      "Processing Record 48 of Set 9| kutum\n",
      "Processing Record 49 of Set 9| frontera\n",
      "Processing Record 1 of Set 10| moree\n",
      "Processing Record 2 of Set 10| paita\n",
      "Processing Record 3 of Set 10| yurimaguas\n",
      "Processing Record 4 of Set 10| kidal\n",
      "Processing Record 5 of Set 10| matara\n",
      "Processing Record 6 of Set 10| iquique\n",
      "Processing Record 7 of Set 10| namie\n",
      "Processing Record 8 of Set 10| santa marta\n",
      "Processing Record 9 of Set 10| sola\n",
      "Processing Record 10 of Set 10| vao\n",
      "Processing Record 11 of Set 10| airai\n",
      "Processing Record 12 of Set 10| cao bang\n",
      "Processing Record 13 of Set 10| campbellsville\n",
      "Processing Record 14 of Set 10| vicksburg\n",
      "Processing Record 15 of Set 10| hambantota\n",
      "Processing Record 16 of Set 10| harper\n",
      "Processing Record 17 of Set 10| praia\n",
      "Processing Record 18 of Set 10| daru\n",
      "Processing Record 19 of Set 10| takahagi\n",
      "Processing Record 20 of Set 10| sangar\n",
      "Processing Record 21 of Set 10| yinchuan\n",
      "Processing Record 22 of Set 10| ternate\n",
      "Processing Record 23 of Set 10| igarka\n",
      "Processing Record 24 of Set 10| kabanjahe\n",
      "Processing Record 25 of Set 10| kungurtug\n",
      "Processing Record 26 of Set 10| ariquemes\n",
      "Processing Record 27 of Set 10| luohe\n",
      "Processing Record 28 of Set 10| klaksvik\n",
      "Processing Record 29 of Set 10| havelock\n",
      "Processing Record 30 of Set 10| kainantu\n",
      "Processing Record 31 of Set 10| tambilil\n",
      "Processing Record 32 of Set 10| rypefjord\n",
      "Processing Record 33 of Set 10| atar\n",
      "Processing Record 34 of Set 10| fukue\n",
      "Processing Record 35 of Set 10| ambilobe\n",
      "Processing Record 36 of Set 10| xiangdong\n",
      "City not found, skipping...\n",
      "Processing Record 37 of Set 10| sehwan\n",
      "Processing Record 38 of Set 10| sao joao da barra\n",
      "Processing Record 39 of Set 10| lloydminster\n",
      "Processing Record 40 of Set 10| plainview\n",
      "Processing Record 41 of Set 10| ubinskoye\n",
      "Processing Record 42 of Set 10| samarai\n",
      "Processing Record 43 of Set 10| tazmalt\n",
      "Processing Record 44 of Set 10| abonnema\n",
      "Processing Record 45 of Set 10| isla mujeres\n",
      "Processing Record 46 of Set 10| pajapan\n",
      "Processing Record 47 of Set 10| seoni malwa\n",
      "Processing Record 48 of Set 10| shingu\n",
      "Processing Record 49 of Set 10| namibe\n",
      "Processing Record 1 of Set 11| kananga\n",
      "Processing Record 2 of Set 11| te anau\n",
      "Processing Record 3 of Set 11| tautira\n",
      "Processing Record 4 of Set 11| bonthe\n",
      "Processing Record 5 of Set 11| tuggurt\n",
      "City not found, skipping...\n",
      "Processing Record 6 of Set 11| kidodi\n",
      "Processing Record 7 of Set 11| sharan\n",
      "Processing Record 8 of Set 11| bacolod\n",
      "Processing Record 9 of Set 11| zhezkazgan\n",
      "Processing Record 10 of Set 11| bria\n",
      "Processing Record 11 of Set 11| iskateley\n",
      "Processing Record 12 of Set 11| taoudenni\n",
      "Processing Record 13 of Set 11| bereda\n",
      "Processing Record 14 of Set 11| mananjary\n",
      "Processing Record 15 of Set 11| tarnogskiy gorodok\n",
      "Processing Record 16 of Set 11| saint-joseph\n",
      "Processing Record 17 of Set 11| yar-sale\n",
      "Processing Record 18 of Set 11| phalaborwa\n",
      "Processing Record 19 of Set 11| murgab\n",
      "Processing Record 20 of Set 11| ballina\n",
      "Processing Record 21 of Set 11| aden\n",
      "Processing Record 22 of Set 11| longmont\n",
      "Processing Record 23 of Set 11| jieshi\n",
      "Processing Record 24 of Set 11| awbari\n",
      "Processing Record 25 of Set 11| jurm\n",
      "Processing Record 26 of Set 11| sao gabriel da cachoeira\n",
      "Processing Record 27 of Set 11| anchorage\n",
      "Processing Record 28 of Set 11| antofagasta\n",
      "Processing Record 29 of Set 11| san carlos de bariloche\n",
      "Processing Record 30 of Set 11| san alberto\n",
      "Processing Record 31 of Set 11| marquette\n",
      "Processing Record 32 of Set 11| san carlos\n",
      "Processing Record 33 of Set 11| ushtobe\n",
      "Processing Record 34 of Set 11| dekoa\n",
      "City not found, skipping...\n",
      "Processing Record 35 of Set 11| abu dhabi\n",
      "Processing Record 36 of Set 11| san miguel\n",
      "Processing Record 37 of Set 11| lander\n",
      "Processing Record 38 of Set 11| batagay-alyta\n",
      "Processing Record 39 of Set 11| bratsk\n",
      "Processing Record 40 of Set 11| koslan\n",
      "Processing Record 41 of Set 11| sorong\n",
      "Processing Record 42 of Set 11| kirksville\n",
      "Processing Record 43 of Set 11| carmarthen\n",
      "Processing Record 44 of Set 11| sao miguel\n",
      "Processing Record 45 of Set 11| anadyr\n",
      "Processing Record 46 of Set 11| zelenogorskiy\n",
      "Processing Record 47 of Set 11| huarmey\n",
      "Processing Record 48 of Set 11| banda aceh\n",
      "Processing Record 49 of Set 11| ostrovnoy\n",
      "Processing Record 1 of Set 12| abha\n",
      "Processing Record 2 of Set 12| dondo\n",
      "Processing Record 3 of Set 12| hengshui\n",
      "Processing Record 4 of Set 12| bontang\n",
      "Processing Record 5 of Set 12| ciudad bolivar\n",
      "Processing Record 6 of Set 12| waddan\n",
      "Processing Record 7 of Set 12| bababe\n",
      "City not found, skipping...\n",
      "Processing Record 8 of Set 12| saint-georges\n",
      "Processing Record 9 of Set 12| fallon\n",
      "Processing Record 10 of Set 12| cumaribo\n",
      "City not found, skipping...\n",
      "Processing Record 11 of Set 12| faya\n",
      "Processing Record 12 of Set 12| thanh hoa\n",
      "Processing Record 13 of Set 12| alexandria\n",
      "Processing Record 14 of Set 12| chaman\n",
      "Processing Record 15 of Set 12| honningsvag\n",
      "Processing Record 16 of Set 12| pirovskoye\n",
      "Processing Record 17 of Set 12| kibungo\n",
      "Processing Record 18 of Set 12| mariakani\n",
      "Processing Record 19 of Set 12| maldonado\n",
      "Processing Record 20 of Set 12| bucerias\n",
      "Processing Record 21 of Set 12| anori\n",
      "Processing Record 22 of Set 12| bahia de caraquez\n",
      "Processing Record 23 of Set 12| mwanza\n",
      "Processing Record 24 of Set 12| aswan\n",
      "Processing Record 25 of Set 12| halalo\n",
      "City not found, skipping...\n",
      "Processing Record 26 of Set 12| walvis bay\n",
      "Processing Record 27 of Set 12| gizo\n",
      "Processing Record 28 of Set 12| san cristobal\n",
      "Processing Record 29 of Set 12| oktyabrskiy\n",
      "Processing Record 30 of Set 12| mindelo\n",
      "Processing Record 31 of Set 12| nemuro\n",
      "Processing Record 32 of Set 12| mocuba\n",
      "Processing Record 33 of Set 12| uray\n",
      "Processing Record 34 of Set 12| hervey bay\n",
      "Processing Record 35 of Set 12| iracoubo\n"
     ]
    },
    {
     "name": "stdout",
     "output_type": "stream",
     "text": [
      "Processing Record 36 of Set 12| fort nelson\n",
      "Processing Record 37 of Set 12| fernandopolis\n",
      "Processing Record 38 of Set 12| batie\n",
      "Processing Record 39 of Set 12| rajpipla\n",
      "Processing Record 40 of Set 12| tobol\n",
      "Processing Record 41 of Set 12| asuncion\n",
      "Processing Record 42 of Set 12| zhangjiakou\n",
      "Processing Record 43 of Set 12| lindi\n",
      "Processing Record 44 of Set 12| baruun-urt\n",
      "Processing Record 45 of Set 12| coruripe\n",
      "Processing Record 46 of Set 12| breytovo\n",
      "Processing Record 47 of Set 12| matay\n",
      "Processing Record 48 of Set 12| hasaki\n",
      "Processing Record 49 of Set 12| armidale\n",
      "Processing Record 1 of Set 13| solnechnyy\n",
      "Processing Record 2 of Set 13| ramsar\n",
      "Processing Record 3 of Set 13| kingman\n",
      "Processing Record 4 of Set 13| tilichiki\n",
      "Processing Record 5 of Set 13| colares\n",
      "Processing Record 6 of Set 13| xichang\n",
      "Processing Record 7 of Set 13| havre-saint-pierre\n",
      "Processing Record 8 of Set 13| rocha\n",
      "Processing Record 9 of Set 13| whitehorse\n",
      "Processing Record 10 of Set 13| qasigiannguit\n",
      "Processing Record 11 of Set 13| negele\n",
      "City not found, skipping...\n",
      "Processing Record 12 of Set 13| dunedin\n",
      "Processing Record 13 of Set 13| daxian\n",
      "City not found, skipping...\n",
      "Processing Record 14 of Set 13| shache\n",
      "Processing Record 15 of Set 13| mangrol\n",
      "Processing Record 16 of Set 13| miranda\n",
      "Processing Record 17 of Set 13| chengde\n",
      "Processing Record 18 of Set 13| woodward\n",
      "Processing Record 19 of Set 13| agadez\n",
      "Processing Record 20 of Set 13| meulaboh\n",
      "Processing Record 21 of Set 13| olafsvik\n",
      "Processing Record 22 of Set 13| scottsburgh\n",
      "City not found, skipping...\n",
      "Processing Record 23 of Set 13| achhnera\n",
      "Processing Record 24 of Set 13| sovetskaya gavan\n",
      "Processing Record 25 of Set 13| bay roberts\n",
      "Processing Record 26 of Set 13| manaure\n",
      "-----------------------------\n",
      "Data Retrieval Complete\n",
      "-----------------------------\n"
     ]
    }
   ],
   "source": [
    "# Define Base URL\n",
    "base_url = \"http://api.openweathermap.org/data/2.5/weather?\"\n",
    "# building URL by adding Key and query (not query values - yet)\n",
    "query_url = f\"{base_url}appid={weather_api_key}&q=\"\n",
    "print(\"Beginning Data Retrieval\")\n",
    "print(\"-----------------------------\")\n",
    "count = 0\n",
    "set_count = 1\n",
    "for index, row in cities_df.iterrows():\n",
    "    city_name = row[\"City\"]\n",
    "    weather_response = requests.get(query_url + city_name)\n",
    "    weather_json = weather_response.json()\n",
    "    count +=1\n",
    "    if count == 50:\n",
    "        count = 1 # WHY NOT WORKING?\n",
    "        set_count += 1\n",
    "    try:\n",
    "        print(f\"Processing Record {count} of Set {set_count}| {city_name}\")\n",
    "        cities_df.loc[index,'Lat'] = weather_json['coord']['lat']\n",
    "        cities_df.loc[index,'Lng'] = weather_json['coord']['lon']\n",
    "        cities_df.loc[index,'Max Temp'] = weather_json['main']['temp_max']\n",
    "        cities_df.loc[index,'Humidity'] = weather_json['main']['humidity']\n",
    "        cities_df.loc[index,'Cloudiness'] = weather_json['clouds']['all']\n",
    "        cities_df.loc[index,'Wind Speed'] = weather_json['wind']['speed']\n",
    "        cities_df.loc[index,'Country'] = weather_json['sys']['country']\n",
    "        cities_df.loc[index,'Date'] = weather_json['dt']\n",
    "    except (KeyError, IndexError):\n",
    "        print(f\"City not found, skipping...\")\n",
    "print(\"-----------------------------\")\n",
    "print(\"Data Retrieval Complete\")\n",
    "print(\"-----------------------------\")\n",
    "\n"
   ]
  },
  {
   "cell_type": "markdown",
   "metadata": {},
   "source": [
    "### Convert Raw Data to DataFrame\n",
    "* Export the city data into a .csv.\n",
    "* Display the DataFrame"
   ]
  },
  {
   "cell_type": "code",
   "execution_count": 6,
   "metadata": {},
   "outputs": [
    {
     "data": {
      "text/html": [
       "<div>\n",
       "<style scoped>\n",
       "    .dataframe tbody tr th:only-of-type {\n",
       "        vertical-align: middle;\n",
       "    }\n",
       "\n",
       "    .dataframe tbody tr th {\n",
       "        vertical-align: top;\n",
       "    }\n",
       "\n",
       "    .dataframe thead th {\n",
       "        text-align: right;\n",
       "    }\n",
       "</style>\n",
       "<table border=\"1\" class=\"dataframe\">\n",
       "  <thead>\n",
       "    <tr style=\"text-align: right;\">\n",
       "      <th></th>\n",
       "      <th>City</th>\n",
       "      <th>Lat</th>\n",
       "      <th>Lng</th>\n",
       "      <th>Max Temp</th>\n",
       "      <th>Humidity</th>\n",
       "      <th>Cloudiness</th>\n",
       "      <th>Wind Speed</th>\n",
       "      <th>Country</th>\n",
       "      <th>Date</th>\n",
       "    </tr>\n",
       "  </thead>\n",
       "  <tbody>\n",
       "    <tr>\n",
       "      <th>0</th>\n",
       "      <td>arraial do cabo</td>\n",
       "      <td>-22.97</td>\n",
       "      <td>-42.03</td>\n",
       "      <td>77.000</td>\n",
       "      <td>83.0</td>\n",
       "      <td>82.0</td>\n",
       "      <td>6.70</td>\n",
       "      <td>BR</td>\n",
       "      <td>08-18-2020</td>\n",
       "    </tr>\n",
       "    <tr>\n",
       "      <th>1</th>\n",
       "      <td>port elizabeth</td>\n",
       "      <td>-33.92</td>\n",
       "      <td>25.57</td>\n",
       "      <td>51.800</td>\n",
       "      <td>81.0</td>\n",
       "      <td>59.0</td>\n",
       "      <td>12.30</td>\n",
       "      <td>ZA</td>\n",
       "      <td>08-18-2020</td>\n",
       "    </tr>\n",
       "    <tr>\n",
       "      <th>3</th>\n",
       "      <td>the pas</td>\n",
       "      <td>53.83</td>\n",
       "      <td>-101.25</td>\n",
       "      <td>78.800</td>\n",
       "      <td>61.0</td>\n",
       "      <td>1.0</td>\n",
       "      <td>2.99</td>\n",
       "      <td>CA</td>\n",
       "      <td>08-18-2020</td>\n",
       "    </tr>\n",
       "    <tr>\n",
       "      <th>5</th>\n",
       "      <td>new norfolk</td>\n",
       "      <td>-42.78</td>\n",
       "      <td>147.06</td>\n",
       "      <td>41.000</td>\n",
       "      <td>83.0</td>\n",
       "      <td>57.0</td>\n",
       "      <td>0.95</td>\n",
       "      <td>AU</td>\n",
       "      <td>08-18-2020</td>\n",
       "    </tr>\n",
       "    <tr>\n",
       "      <th>6</th>\n",
       "      <td>chokurdakh</td>\n",
       "      <td>70.63</td>\n",
       "      <td>147.92</td>\n",
       "      <td>33.800</td>\n",
       "      <td>92.0</td>\n",
       "      <td>59.0</td>\n",
       "      <td>2.75</td>\n",
       "      <td>RU</td>\n",
       "      <td>08-18-2020</td>\n",
       "    </tr>\n",
       "    <tr>\n",
       "      <th>...</th>\n",
       "      <td>...</td>\n",
       "      <td>...</td>\n",
       "      <td>...</td>\n",
       "      <td>...</td>\n",
       "      <td>...</td>\n",
       "      <td>...</td>\n",
       "      <td>...</td>\n",
       "      <td>...</td>\n",
       "      <td>...</td>\n",
       "    </tr>\n",
       "    <tr>\n",
       "      <th>608</th>\n",
       "      <td>olafsvik</td>\n",
       "      <td>64.89</td>\n",
       "      <td>-23.71</td>\n",
       "      <td>56.120</td>\n",
       "      <td>81.0</td>\n",
       "      <td>0.0</td>\n",
       "      <td>5.23</td>\n",
       "      <td>IS</td>\n",
       "      <td>08-18-2020</td>\n",
       "    </tr>\n",
       "    <tr>\n",
       "      <th>610</th>\n",
       "      <td>achhnera</td>\n",
       "      <td>27.18</td>\n",
       "      <td>77.77</td>\n",
       "      <td>89.870</td>\n",
       "      <td>64.0</td>\n",
       "      <td>10.0</td>\n",
       "      <td>2.73</td>\n",
       "      <td>IN</td>\n",
       "      <td>08-18-2020</td>\n",
       "    </tr>\n",
       "    <tr>\n",
       "      <th>611</th>\n",
       "      <td>sovetskaya gavan</td>\n",
       "      <td>48.97</td>\n",
       "      <td>140.29</td>\n",
       "      <td>60.908</td>\n",
       "      <td>91.0</td>\n",
       "      <td>98.0</td>\n",
       "      <td>2.56</td>\n",
       "      <td>RU</td>\n",
       "      <td>08-18-2020</td>\n",
       "    </tr>\n",
       "    <tr>\n",
       "      <th>612</th>\n",
       "      <td>bay roberts</td>\n",
       "      <td>47.60</td>\n",
       "      <td>-53.26</td>\n",
       "      <td>60.998</td>\n",
       "      <td>47.0</td>\n",
       "      <td>100.0</td>\n",
       "      <td>8.66</td>\n",
       "      <td>CA</td>\n",
       "      <td>08-18-2020</td>\n",
       "    </tr>\n",
       "    <tr>\n",
       "      <th>613</th>\n",
       "      <td>manaure</td>\n",
       "      <td>11.78</td>\n",
       "      <td>-72.44</td>\n",
       "      <td>85.046</td>\n",
       "      <td>71.0</td>\n",
       "      <td>76.0</td>\n",
       "      <td>6.05</td>\n",
       "      <td>CO</td>\n",
       "      <td>08-18-2020</td>\n",
       "    </tr>\n",
       "  </tbody>\n",
       "</table>\n",
       "<p>559 rows × 9 columns</p>\n",
       "</div>"
      ],
      "text/plain": [
       "                 City    Lat     Lng  Max Temp  Humidity  Cloudiness  \\\n",
       "0     arraial do cabo -22.97  -42.03    77.000      83.0        82.0   \n",
       "1      port elizabeth -33.92   25.57    51.800      81.0        59.0   \n",
       "3             the pas  53.83 -101.25    78.800      61.0         1.0   \n",
       "5         new norfolk -42.78  147.06    41.000      83.0        57.0   \n",
       "6          chokurdakh  70.63  147.92    33.800      92.0        59.0   \n",
       "..                ...    ...     ...       ...       ...         ...   \n",
       "608          olafsvik  64.89  -23.71    56.120      81.0         0.0   \n",
       "610          achhnera  27.18   77.77    89.870      64.0        10.0   \n",
       "611  sovetskaya gavan  48.97  140.29    60.908      91.0        98.0   \n",
       "612       bay roberts  47.60  -53.26    60.998      47.0       100.0   \n",
       "613           manaure  11.78  -72.44    85.046      71.0        76.0   \n",
       "\n",
       "     Wind Speed Country        Date  \n",
       "0          6.70      BR  08-18-2020  \n",
       "1         12.30      ZA  08-18-2020  \n",
       "3          2.99      CA  08-18-2020  \n",
       "5          0.95      AU  08-18-2020  \n",
       "6          2.75      RU  08-18-2020  \n",
       "..          ...     ...         ...  \n",
       "608        5.23      IS  08-18-2020  \n",
       "610        2.73      IN  08-18-2020  \n",
       "611        2.56      RU  08-18-2020  \n",
       "612        8.66      CA  08-18-2020  \n",
       "613        6.05      CO  08-18-2020  \n",
       "\n",
       "[559 rows x 9 columns]"
      ]
     },
     "execution_count": 6,
     "metadata": {},
     "output_type": "execute_result"
    }
   ],
   "source": [
    "cities_df[\"Lat\"] = pd.to_numeric(cities_df[\"Lat\"])\n",
    "cities_df[\"Lng\"] = pd.to_numeric(cities_df[\"Lng\"])\n",
    "cities_df[\"Max Temp\"] = pd.to_numeric(cities_df[\"Max Temp\"])\n",
    "cities_df[\"Max Temp\"] = ((cities_df[\"Max Temp\"] -273.15) * 9/5 +32) #converting Kelvin to Fahrenheit # Also could have used units = imperial method\n",
    "cities_df[\"Humidity\"] = pd.to_numeric(cities_df[\"Humidity\"])\n",
    "cities_df[\"Cloudiness\"] = pd.to_numeric(cities_df[\"Cloudiness\"])\n",
    "cities_df[\"Wind Speed\"] = pd.to_numeric(cities_df[\"Wind Speed\"])\n",
    "cities_df[\"Date\"] = pd.to_datetime(cities_df[\"Date\"], unit = \"s\")\n",
    "cities_df['Date'] = pd.to_datetime(cities_df['Date']) \n",
    "cities_df['Date'] = cities_df['Date'].dt.strftime('%m-%d-%Y') \n",
    "\n",
    "cities_df_no_null = cities_df.dropna(how = \"any\")\n",
    "cities_df_no_null.to_csv(\"city_weather.csv\", index=False)\n",
    "cities_df_no_null\n",
    "\n"
   ]
  },
  {
   "cell_type": "markdown",
   "metadata": {},
   "source": [
    "## Inspect the data and remove the cities where the humidity > 100%.\n",
    "----\n",
    "Skip this step if there are no cities that have humidity > 100%. "
   ]
  },
  {
   "cell_type": "code",
   "execution_count": 7,
   "metadata": {},
   "outputs": [
    {
     "data": {
      "text/html": [
       "<div>\n",
       "<style scoped>\n",
       "    .dataframe tbody tr th:only-of-type {\n",
       "        vertical-align: middle;\n",
       "    }\n",
       "\n",
       "    .dataframe tbody tr th {\n",
       "        vertical-align: top;\n",
       "    }\n",
       "\n",
       "    .dataframe thead th {\n",
       "        text-align: right;\n",
       "    }\n",
       "</style>\n",
       "<table border=\"1\" class=\"dataframe\">\n",
       "  <thead>\n",
       "    <tr style=\"text-align: right;\">\n",
       "      <th></th>\n",
       "      <th>City</th>\n",
       "      <th>Lat</th>\n",
       "      <th>Lng</th>\n",
       "      <th>Max Temp</th>\n",
       "      <th>Humidity</th>\n",
       "      <th>Cloudiness</th>\n",
       "      <th>Wind Speed</th>\n",
       "      <th>Country</th>\n",
       "      <th>Date</th>\n",
       "    </tr>\n",
       "  </thead>\n",
       "  <tbody>\n",
       "  </tbody>\n",
       "</table>\n",
       "</div>"
      ],
      "text/plain": [
       "Empty DataFrame\n",
       "Columns: [City, Lat, Lng, Max Temp, Humidity, Cloudiness, Wind Speed, Country, Date]\n",
       "Index: []"
      ]
     },
     "execution_count": 7,
     "metadata": {},
     "output_type": "execute_result"
    }
   ],
   "source": [
    "cities_df[cities_df[\"Humidity\"]>100]"
   ]
  },
  {
   "cell_type": "code",
   "execution_count": 9,
   "metadata": {},
   "outputs": [
    {
     "data": {
      "text/html": [
       "<div>\n",
       "<style scoped>\n",
       "    .dataframe tbody tr th:only-of-type {\n",
       "        vertical-align: middle;\n",
       "    }\n",
       "\n",
       "    .dataframe tbody tr th {\n",
       "        vertical-align: top;\n",
       "    }\n",
       "\n",
       "    .dataframe thead th {\n",
       "        text-align: right;\n",
       "    }\n",
       "</style>\n",
       "<table border=\"1\" class=\"dataframe\">\n",
       "  <thead>\n",
       "    <tr style=\"text-align: right;\">\n",
       "      <th></th>\n",
       "      <th>City</th>\n",
       "      <th>Lat</th>\n",
       "      <th>Lng</th>\n",
       "      <th>Max Temp</th>\n",
       "      <th>Humidity</th>\n",
       "      <th>Cloudiness</th>\n",
       "      <th>Wind Speed</th>\n",
       "      <th>Country</th>\n",
       "      <th>Date</th>\n",
       "    </tr>\n",
       "  </thead>\n",
       "  <tbody>\n",
       "    <tr>\n",
       "      <th>0</th>\n",
       "      <td>arraial do cabo</td>\n",
       "      <td>-22.97</td>\n",
       "      <td>-42.03</td>\n",
       "      <td>77.000</td>\n",
       "      <td>83.0</td>\n",
       "      <td>82.0</td>\n",
       "      <td>6.70</td>\n",
       "      <td>BR</td>\n",
       "      <td>08-18-2020</td>\n",
       "    </tr>\n",
       "    <tr>\n",
       "      <th>1</th>\n",
       "      <td>port elizabeth</td>\n",
       "      <td>-33.92</td>\n",
       "      <td>25.57</td>\n",
       "      <td>51.800</td>\n",
       "      <td>81.0</td>\n",
       "      <td>59.0</td>\n",
       "      <td>12.30</td>\n",
       "      <td>ZA</td>\n",
       "      <td>08-18-2020</td>\n",
       "    </tr>\n",
       "    <tr>\n",
       "      <th>3</th>\n",
       "      <td>the pas</td>\n",
       "      <td>53.83</td>\n",
       "      <td>-101.25</td>\n",
       "      <td>78.800</td>\n",
       "      <td>61.0</td>\n",
       "      <td>1.0</td>\n",
       "      <td>2.99</td>\n",
       "      <td>CA</td>\n",
       "      <td>08-18-2020</td>\n",
       "    </tr>\n",
       "    <tr>\n",
       "      <th>5</th>\n",
       "      <td>new norfolk</td>\n",
       "      <td>-42.78</td>\n",
       "      <td>147.06</td>\n",
       "      <td>41.000</td>\n",
       "      <td>83.0</td>\n",
       "      <td>57.0</td>\n",
       "      <td>0.95</td>\n",
       "      <td>AU</td>\n",
       "      <td>08-18-2020</td>\n",
       "    </tr>\n",
       "    <tr>\n",
       "      <th>6</th>\n",
       "      <td>chokurdakh</td>\n",
       "      <td>70.63</td>\n",
       "      <td>147.92</td>\n",
       "      <td>33.800</td>\n",
       "      <td>92.0</td>\n",
       "      <td>59.0</td>\n",
       "      <td>2.75</td>\n",
       "      <td>RU</td>\n",
       "      <td>08-18-2020</td>\n",
       "    </tr>\n",
       "    <tr>\n",
       "      <th>...</th>\n",
       "      <td>...</td>\n",
       "      <td>...</td>\n",
       "      <td>...</td>\n",
       "      <td>...</td>\n",
       "      <td>...</td>\n",
       "      <td>...</td>\n",
       "      <td>...</td>\n",
       "      <td>...</td>\n",
       "      <td>...</td>\n",
       "    </tr>\n",
       "    <tr>\n",
       "      <th>608</th>\n",
       "      <td>olafsvik</td>\n",
       "      <td>64.89</td>\n",
       "      <td>-23.71</td>\n",
       "      <td>56.120</td>\n",
       "      <td>81.0</td>\n",
       "      <td>0.0</td>\n",
       "      <td>5.23</td>\n",
       "      <td>IS</td>\n",
       "      <td>08-18-2020</td>\n",
       "    </tr>\n",
       "    <tr>\n",
       "      <th>610</th>\n",
       "      <td>achhnera</td>\n",
       "      <td>27.18</td>\n",
       "      <td>77.77</td>\n",
       "      <td>89.870</td>\n",
       "      <td>64.0</td>\n",
       "      <td>10.0</td>\n",
       "      <td>2.73</td>\n",
       "      <td>IN</td>\n",
       "      <td>08-18-2020</td>\n",
       "    </tr>\n",
       "    <tr>\n",
       "      <th>611</th>\n",
       "      <td>sovetskaya gavan</td>\n",
       "      <td>48.97</td>\n",
       "      <td>140.29</td>\n",
       "      <td>60.908</td>\n",
       "      <td>91.0</td>\n",
       "      <td>98.0</td>\n",
       "      <td>2.56</td>\n",
       "      <td>RU</td>\n",
       "      <td>08-18-2020</td>\n",
       "    </tr>\n",
       "    <tr>\n",
       "      <th>612</th>\n",
       "      <td>bay roberts</td>\n",
       "      <td>47.60</td>\n",
       "      <td>-53.26</td>\n",
       "      <td>60.998</td>\n",
       "      <td>47.0</td>\n",
       "      <td>100.0</td>\n",
       "      <td>8.66</td>\n",
       "      <td>CA</td>\n",
       "      <td>08-18-2020</td>\n",
       "    </tr>\n",
       "    <tr>\n",
       "      <th>613</th>\n",
       "      <td>manaure</td>\n",
       "      <td>11.78</td>\n",
       "      <td>-72.44</td>\n",
       "      <td>85.046</td>\n",
       "      <td>71.0</td>\n",
       "      <td>76.0</td>\n",
       "      <td>6.05</td>\n",
       "      <td>CO</td>\n",
       "      <td>08-18-2020</td>\n",
       "    </tr>\n",
       "  </tbody>\n",
       "</table>\n",
       "<p>536 rows × 9 columns</p>\n",
       "</div>"
      ],
      "text/plain": [
       "                 City    Lat     Lng  Max Temp  Humidity  Cloudiness  \\\n",
       "0     arraial do cabo -22.97  -42.03    77.000      83.0        82.0   \n",
       "1      port elizabeth -33.92   25.57    51.800      81.0        59.0   \n",
       "3             the pas  53.83 -101.25    78.800      61.0         1.0   \n",
       "5         new norfolk -42.78  147.06    41.000      83.0        57.0   \n",
       "6          chokurdakh  70.63  147.92    33.800      92.0        59.0   \n",
       "..                ...    ...     ...       ...       ...         ...   \n",
       "608          olafsvik  64.89  -23.71    56.120      81.0         0.0   \n",
       "610          achhnera  27.18   77.77    89.870      64.0        10.0   \n",
       "611  sovetskaya gavan  48.97  140.29    60.908      91.0        98.0   \n",
       "612       bay roberts  47.60  -53.26    60.998      47.0       100.0   \n",
       "613           manaure  11.78  -72.44    85.046      71.0        76.0   \n",
       "\n",
       "     Wind Speed Country        Date  \n",
       "0          6.70      BR  08-18-2020  \n",
       "1         12.30      ZA  08-18-2020  \n",
       "3          2.99      CA  08-18-2020  \n",
       "5          0.95      AU  08-18-2020  \n",
       "6          2.75      RU  08-18-2020  \n",
       "..          ...     ...         ...  \n",
       "608        5.23      IS  08-18-2020  \n",
       "610        2.73      IN  08-18-2020  \n",
       "611        2.56      RU  08-18-2020  \n",
       "612        8.66      CA  08-18-2020  \n",
       "613        6.05      CO  08-18-2020  \n",
       "\n",
       "[536 rows x 9 columns]"
      ]
     },
     "execution_count": 9,
     "metadata": {},
     "output_type": "execute_result"
    }
   ],
   "source": [
    "#Get the indices of cities that have humidity over 100%.\n",
    "clean_df = cities_df[cities_df[\"Humidity\"]<100]\n",
    "clean_df"
   ]
  },
  {
   "cell_type": "code",
   "execution_count": null,
   "metadata": {},
   "outputs": [],
   "source": [
    "# Make a new DataFrame equal to the city data to drop all humidity outliers by index.\n",
    "# Passing \"inplace=False\" will make a copy of the city_data DataFrame, which we call \"clean_city_data\".\n"
   ]
  },
  {
   "cell_type": "code",
   "execution_count": 9,
   "metadata": {},
   "outputs": [],
   "source": [
    "# Extract relevant fields from the data frame\n",
    "\n",
    "\n",
    "# Export the City_Data into a csv\n"
   ]
  },
  {
   "cell_type": "markdown",
   "metadata": {},
   "source": [
    "## Plotting the Data\n",
    "* Use proper labeling of the plots using plot titles (including date of analysis) and axes labels.\n",
    "* Save the plotted figures as .pngs."
   ]
  },
  {
   "cell_type": "markdown",
   "metadata": {},
   "source": [
    "## Latitude vs. Temperature Plot"
   ]
  },
  {
   "cell_type": "code",
   "execution_count": 10,
   "metadata": {
    "scrolled": true
   },
   "outputs": [
    {
     "data": {
      "image/png": "[encoded data removed]",
      "text/plain": [
       "<Figure size 432x288 with 1 Axes>"
      ]
     },
     "metadata": {
      "needs_background": "light"
     },
     "output_type": "display_data"
    }
   ],
   "source": [
    "max_temp = clean_df[\"Max Temp\"]\n",
    "Lat_df = clean_df[\"Lat\"]\n",
    "plt.scatter(Lat_df, max_temp)\n",
    "plt.xlabel('Latitude')\n",
    "plt.ylabel('Max temputure(F)')\n",
    "plt.title(\"City Latitude vs. Max Temputure 08/18/20\")\n",
    "plt.show()"
   ]
  },
  {
   "cell_type": "markdown",
   "metadata": {},
   "source": [
    "As latitude approaches 0 degrees max temputures rise."
   ]
  },
  {
   "cell_type": "markdown",
   "metadata": {},
   "source": [
    "## Latitude vs. Humidity Plot"
   ]
  },
  {
   "cell_type": "code",
   "execution_count": 11,
   "metadata": {},
   "outputs": [
    {
     "data": {
      "image/png": "[encoded data removed]",
      "text/plain": [
       "<Figure size 432x288 with 1 Axes>"
      ]
     },
     "metadata": {
      "needs_background": "light"
     },
     "output_type": "display_data"
    }
   ],
   "source": [
    "hum_df = clean_df[\"Humidity\"]\n",
    "Lat_df = clean_df[\"Lat\"]\n",
    "plt.scatter(Lat_df, hum_df)\n",
    "plt.xlabel('Latitude')\n",
    "plt.ylabel('Humidity(%)')\n",
    "plt.title(\"City Latitude vs Humidity (08/18/20)\")\n",
    "plt.show()"
   ]
  },
  {
   "cell_type": "markdown",
   "metadata": {},
   "source": [
    "The coorelation between humidity and latitude is not apparent.  "
   ]
  },
  {
   "cell_type": "markdown",
   "metadata": {},
   "source": [
    "## Latitude vs. Cloudiness Plot"
   ]
  },
  {
   "cell_type": "code",
   "execution_count": 12,
   "metadata": {},
   "outputs": [
    {
     "data": {
      "image/png": "[encoded data removed]",
      "text/plain": [
       "<Figure size 432x288 with 1 Axes>"
      ]
     },
     "metadata": {
      "needs_background": "light"
     },
     "output_type": "display_data"
    }
   ],
   "source": [
    "cloud_df = clean_df[\"Cloudiness\"]\n",
    "Lat_df = clean_df[\"Lat\"]\n",
    "plt.scatter(Lat_df, cloud_df)\n",
    "plt.xlabel('Latitude')\n",
    "plt.ylabel('Cloudiness(%)')\n",
    "plt.title(\"City Latitude vs. Cloudiness (08/18/20)\")\n",
    "plt.show() "
   ]
  },
  {
   "cell_type": "markdown",
   "metadata": {},
   "source": [
    "The coorelation between cloudiness and latitude is not apparent."
   ]
  },
  {
   "cell_type": "markdown",
   "metadata": {},
   "source": [
    "## Latitude vs. Wind Speed Plot"
   ]
  },
  {
   "cell_type": "code",
   "execution_count": 13,
   "metadata": {},
   "outputs": [
    {
     "data": {
      "image/png": "[encoded data removed]",
      "text/plain": [
       "<Figure size 432x288 with 1 Axes>"
      ]
     },
     "metadata": {
      "needs_background": "light"
     },
     "output_type": "display_data"
    }
   ],
   "source": [
    "windspeed_df = clean_df[\"Wind Speed\"]\n",
    "Lat_df = clean_df[\"Lat\"]\n",
    "plt.scatter(Lat_df, windspeed_df)\n",
    "plt.xlabel('Latitude')\n",
    "plt.ylabel('Wind Speed(mph)')\n",
    "plt.title(\"City Latitude vs. Wind Speed (08/18/20)\")\n",
    "plt.show() "
   ]
  },
  {
   "cell_type": "markdown",
   "metadata": {},
   "source": [
    "Wind speeds under 10 (mph) is spread across most latitudes.  "
   ]
  },
  {
   "cell_type": "markdown",
   "metadata": {},
   "source": [
    "## Linear Regression"
   ]
  },
  {
   "cell_type": "code",
   "execution_count": 15,
   "metadata": {},
   "outputs": [],
   "source": [
    "# Create Northern and Southern Hemisphere DataFrames"
   ]
  },
  {
   "cell_type": "markdown",
   "metadata": {},
   "source": [
    "####  Northern Hemisphere - Max Temp vs. Latitude Linear Regression"
   ]
  },
  {
   "cell_type": "code",
   "execution_count": 23,
   "metadata": {},
   "outputs": [
    {
     "name": "stdout",
     "output_type": "stream",
     "text": [
      "R Val is 0.5278713024984569\n"
     ]
    },
    {
     "data": {
      "text/plain": [
       "Text(40, 100, 'y = -0.55x + 92.11')"
      ]
     },
     "execution_count": 23,
     "metadata": {},
     "output_type": "execute_result"
    },
    {
     "data": {
      "image/png": "[encoded data removed]",
      "text/plain": [
       "<Figure size 432x288 with 1 Axes>"
      ]
     },
     "metadata": {
      "needs_background": "light"
     },
     "output_type": "display_data"
    }
   ],
   "source": [
    "north_hem = cities_df_no_null.loc[cities_df_no_null['Lat'] > 0,]\n",
    "\n",
    "plt.scatter(north_hem['Lat'], north_hem['Max Temp'], marker=\"o\", facecolors=\"dodgerblue\")\n",
    "\n",
    "plt.xlabel('Latitude')\n",
    "plt.ylabel('Max Temp (F)')\n",
    "plt.title(\"Northern Hemisphere - Max Temp vs. Latitude Linear Regression\")\n",
    "\n",
    "x_values = north_hem['Lat']\n",
    "y_values = north_hem['Max Temp']\n",
    "\n",
    "(slope, intercept, rvalue, pvalue, stderr) = linregress(x_values, y_values)\n",
    "\n",
    "regress_values = x_values * slope + intercept\n",
    "line_eq = \"y = \" + str(round(slope,2)) + \"x + \" + str(round(intercept,2))\n",
    "\n",
    "plt.plot(x_values,regress_values,\"r-\")\n",
    "\n",
    "#Printing R Value\n",
    "print(f\"R Val is {rvalue**2}\")\n",
    "\n",
    "#Plotting line equation on the graph\n",
    "plt.annotate(line_eq,(40,100),fontsize=15,color=\"red\") #(20,30) is x y coordinate on graph where line will start printing\n"
   ]
  },
  {
   "cell_type": "markdown",
   "metadata": {},
   "source": [
    "####  Southern Hemisphere - Max Temp vs. Latitude Linear Regression"
   ]
  },
  {
   "cell_type": "code",
   "execution_count": 24,
   "metadata": {},
   "outputs": [
    {
     "name": "stdout",
     "output_type": "stream",
     "text": [
      "R Val is 0.5278713024984569\n"
     ]
    },
    {
     "data": {
      "text/plain": [
       "Text(40, 100, 'y = -0.55x + 92.11')"
      ]
     },
     "execution_count": 24,
     "metadata": {},
     "output_type": "execute_result"
    },
    {
     "data": {
      "image/png": "[encoded data removed]",
      "text/plain": [
       "<Figure size 432x288 with 1 Axes>"
      ]
     },
     "metadata": {
      "needs_background": "light"
     },
     "output_type": "display_data"
    }
   ],
   "source": [
    "south_hem = cities_df_no_null.loc[cities_df_no_null['Lat'] > 0,]\n",
    "\n",
    "plt.scatter(south_hem['Lat'], north_hem['Max Temp'], marker=\"o\", facecolors=\"dodgerblue\")\n",
    "\n",
    "plt.xlabel('Latitude')\n",
    "plt.ylabel('Max Temp (F)')\n",
    "plt.title(\"Southern Hemisphere - Max Temp vs. Latitude Linear Regression\")\n",
    "\n",
    "x_values = south_hem['Lat']\n",
    "y_values = south_hem['Max Temp']\n",
    "\n",
    "(slope, intercept, rvalue, pvalue, stderr) = linregress(x_values, y_values)\n",
    "\n",
    "regress_values = x_values * slope + intercept\n",
    "line_eq = \"y = \" + str(round(slope,2)) + \"x + \" + str(round(intercept,2))\n",
    "\n",
    "plt.plot(x_values,regress_values,\"r-\")\n",
    "\n",
    "#Printing R Value\n",
    "print(f\"R Val is {rvalue**2}\")\n",
    "\n",
    "#Plotting line equation on the graph\n",
    "plt.annotate(line_eq,(40,100),fontsize=15,color=\"red\") #(20,30) is x y coordinate on graph where line will start printing\n"
   ]
  },
  {
   "cell_type": "markdown",
   "metadata": {},
   "source": [
    "####  Northern Hemisphere - Humidity (%) vs. Latitude Linear Regression"
   ]
  },
  {
   "cell_type": "code",
   "execution_count": 26,
   "metadata": {},
   "outputs": [
    {
     "name": "stdout",
     "output_type": "stream",
     "text": [
      "R Val is 0.0007976770383112366\n"
     ]
    },
    {
     "data": {
      "text/plain": [
       "Text(40, 20, 'y = 0.03x + 69.07')"
      ]
     },
     "execution_count": 26,
     "metadata": {},
     "output_type": "execute_result"
    },
    {
     "data": {
      "image/png": "[encoded data removed]",
      "text/plain": [
       "<Figure size 432x288 with 1 Axes>"
      ]
     },
     "metadata": {
      "needs_background": "light"
     },
     "output_type": "display_data"
    }
   ],
   "source": [
    "north_hem = cities_df_no_null.loc[cities_df_no_null['Lat'] > 0,]\n",
    "\n",
    "plt.scatter(north_hem['Lat'], north_hem['Humidity'], marker=\"o\", facecolors=\"dodgerblue\")\n",
    "\n",
    "plt.xlabel('Latitude')\n",
    "plt.ylabel('Humidity (%)')\n",
    "plt.title(\"Northern Hemisphere - Humidity (%) vs. Latitude Linear Regression\")\n",
    "\n",
    "x_values = north_hem['Lat']\n",
    "y_values = north_hem['Humidity']\n",
    "\n",
    "(slope, intercept, rvalue, pvalue, stderr) = linregress(x_values, y_values)\n",
    "\n",
    "regress_values = x_values * slope + intercept\n",
    "line_eq = \"y = \" + str(round(slope,2)) + \"x + \" + str(round(intercept,2))\n",
    "\n",
    "plt.plot(x_values,regress_values,\"r-\")\n",
    "\n",
    "#Printing R Value\n",
    "print(f\"R Val is {rvalue**2}\")\n",
    "\n",
    "#Plotting line equation on the graph\n",
    "plt.annotate(line_eq,(40,20),fontsize=15,color=\"red\") #(20,30) is x y coordinate on graph where line will start printing\n"
   ]
  },
  {
   "cell_type": "markdown",
   "metadata": {},
   "source": [
    "####  Southern Hemisphere - Humidity (%) vs. Latitude Linear Regression"
   ]
  },
  {
   "cell_type": "code",
   "execution_count": 30,
   "metadata": {},
   "outputs": [
    {
     "name": "stdout",
     "output_type": "stream",
     "text": [
      "R Val is 0.0007976770383112366\n"
     ]
    },
    {
     "data": {
      "text/plain": [
       "2"
      ]
     },
     "execution_count": 30,
     "metadata": {},
     "output_type": "execute_result"
    },
    {
     "data": {
      "image/png": "[encoded data removed]",
      "text/plain": [
       "<Figure size 432x288 with 1 Axes>"
      ]
     },
     "metadata": {
      "needs_background": "light"
     },
     "output_type": "display_data"
    }
   ],
   "source": [
    "south_hem = cities_df_no_null.loc[cities_df_no_null['Lat'] > 0,]\n",
    "\n",
    "plt.scatter(south_hem['Lat'], south_hem['Humidity'], marker=\"o\", facecolors=\"dodgerblue\")\n",
    "\n",
    "plt.xlabel('Latitude')\n",
    "plt.ylabel('Humidity (%)')\n",
    "plt.title(\"Southern Hemisphere - Humidity (%) vs. Latitude Linear Regression\")\n",
    "\n",
    "x_values = south_hem['Lat']\n",
    "y_values = south_hem['Humidity']\n",
    "\n",
    "(slope, intercept, rvalue, pvalue, stderr) = linregress(x_values, y_values)\n",
    "\n",
    "regress_values = x_values * slope + intercept\n",
    "line_eq = \"y = \" + str(round(slope,2)) + \"x + \" + str(round(intercept,2))\n",
    "\n",
    "plt.plot(x_values,regress_values,\"r-\")\n",
    "\n",
    "#Printing R Value\n",
    "print(f\"R Val is {rvalue**2}\")\n",
    "\n",
    "#Plotting line equation on the graph\n",
    "plt.annotate(line_eq,(40,20),fontsize=15,color=\"red\") #(20,30) is x y coordinate on graph where line will start printing\n",
    "2"
   ]
  },
  {
   "cell_type": "markdown",
   "metadata": {},
   "source": [
    "####  Northern Hemisphere - Cloudiness (%) vs. Latitude Linear Regression"
   ]
  },
  {
   "cell_type": "code",
   "execution_count": 18,
   "metadata": {},
   "outputs": [
    {
     "name": "stdout",
     "output_type": "stream",
     "text": [
      "R Val is 0.0019031579929780953\n"
     ]
    },
    {
     "data": {
      "text/plain": [
       "Text(20, 60, 'y = -0.09x + 56.32')"
      ]
     },
     "execution_count": 18,
     "metadata": {},
     "output_type": "execute_result"
    },
    {
     "data": {
      "image/png": "[encoded data removed]",
      "text/plain": [
       "<Figure size 432x288 with 1 Axes>"
      ]
     },
     "metadata": {
      "needs_background": "light"
     },
     "output_type": "display_data"
    }
   ],
   "source": [
    "north_hem = cities_df_no_null.loc[cities_df_no_null['Lat'] > 0,]\n",
    "\n",
    "plt.scatter(north_hem['Lat'], north_hem['Cloudiness'], marker=\"o\", facecolors=\"dodgerblue\")\n",
    "\n",
    "plt.xlabel('Latitude')\n",
    "plt.ylabel('Cloudiness (%)')\n",
    "plt.title(\"Northern Hemisphere - Cloudiness (%) vs. Latitude Linear Regression\")\n",
    "\n",
    "x_values = north_hem['Lat']\n",
    "y_values = north_hem['Cloudiness']\n",
    "\n",
    "(slope, intercept, rvalue, pvalue, stderr) = linregress(x_values, y_values)\n",
    "\n",
    "regress_values = x_values * slope + intercept\n",
    "line_eq = \"y = \" + str(round(slope,2)) + \"x + \" + str(round(intercept,2))\n",
    "\n",
    "plt.plot(x_values,regress_values,\"r-\")\n",
    "\n",
    "#Printing R Value\n",
    "print(f\"R Val is {rvalue**2}\")\n",
    "\n",
    "#Plotting line equation on the graph\n",
    "plt.annotate(line_eq,(20,60),fontsize=15,color=\"red\") #(20,30) is x y coordinate on graph where line will start printing\n"
   ]
  },
  {
   "cell_type": "markdown",
   "metadata": {},
   "source": [
    "####  Southern Hemisphere - Cloudiness (%) vs. Latitude Linear Regression"
   ]
  },
  {
   "cell_type": "code",
   "execution_count": 19,
   "metadata": {},
   "outputs": [
    {
     "name": "stdout",
     "output_type": "stream",
     "text": [
      "R Val is 0.0019031579929780953\n"
     ]
    },
    {
     "data": {
      "text/plain": [
       "Text(20, 60, 'y = -0.09x + 56.32')"
      ]
     },
     "execution_count": 19,
     "metadata": {},
     "output_type": "execute_result"
    },
    {
     "data": {
      "image/png": "[encoded data removed]",
      "text/plain": [
       "<Figure size 432x288 with 1 Axes>"
      ]
     },
     "metadata": {
      "needs_background": "light"
     },
     "output_type": "display_data"
    }
   ],
   "source": [
    "south_hem = cities_df_no_null.loc[cities_df_no_null['Lat'] > 0,]\n",
    "\n",
    "plt.scatter(south_hem['Lat'], south_hem['Cloudiness'], marker=\"o\", facecolors=\"dodgerblue\")\n",
    "\n",
    "plt.xlabel('Latitude')\n",
    "plt.ylabel('Cloudiness (%)')\n",
    "plt.title(\"Southern Hemisphere - Cloudiness (%) vs. Latitude Linear Regression\")\n",
    "\n",
    "x_values = south_hem['Lat']\n",
    "y_values = south_hem['Cloudiness']\n",
    "\n",
    "(slope, intercept, rvalue, pvalue, stderr) = linregress(x_values, y_values)\n",
    "\n",
    "regress_values = x_values * slope + intercept\n",
    "line_eq = \"y = \" + str(round(slope,2)) + \"x + \" + str(round(intercept,2))\n",
    "\n",
    "plt.plot(x_values,regress_values,\"r-\")\n",
    "\n",
    "#Printing R Value\n",
    "print(f\"R Val is {rvalue**2}\")\n",
    "\n",
    "#Plotting line equation on the graph\n",
    "plt.annotate(line_eq,(20,60),fontsize=15,color=\"red\") #(20,30) is x y coordinate on graph where line will start printing\n"
   ]
  },
  {
   "cell_type": "markdown",
   "metadata": {},
   "source": [
    "####  Northern Hemisphere - Wind Speed (mph) vs. Latitude Linear Regression"
   ]
  },
  {
   "cell_type": "code",
   "execution_count": 31,
   "metadata": {},
   "outputs": [
    {
     "name": "stdout",
     "output_type": "stream",
     "text": [
      "R Val is 0.000125904828652334\n"
     ]
    },
    {
     "data": {
      "text/plain": [
       "Text(20, 13, 'y = 0.0x + 3.25')"
      ]
     },
     "execution_count": 31,
     "metadata": {},
     "output_type": "execute_result"
    },
    {
     "data": {
      "image/png": "[encoded data removed]",
      "text/plain": [
       "<Figure size 432x288 with 1 Axes>"
      ]
     },
     "metadata": {
      "needs_background": "light"
     },
     "output_type": "display_data"
    }
   ],
   "source": [
    "north_hem = cities_df_no_null.loc[cities_df_no_null['Lat'] > 0,]\n",
    "\n",
    "plt.scatter(north_hem['Lat'], north_hem['Wind Speed'], marker=\"o\", facecolors=\"dodgerblue\")\n",
    "\n",
    "plt.xlabel('Latitude')\n",
    "plt.ylabel('Wind Speed (mph)')\n",
    "plt.title(\"Northern Hemisphere - Wind Speed (mph) vs. Latitude Linear Regression\")\n",
    "\n",
    "x_values = north_hem['Lat']\n",
    "y_values = north_hem['Wind Speed']\n",
    "\n",
    "(slope, intercept, rvalue, pvalue, stderr) = linregress(x_values, y_values)\n",
    "\n",
    "regress_values = x_values * slope + intercept\n",
    "line_eq = \"y = \" + str(round(slope,2)) + \"x + \" + str(round(intercept,2))\n",
    "\n",
    "plt.plot(x_values,regress_values,\"r-\")\n",
    "\n",
    "#Printing R Value\n",
    "print(f\"R Val is {rvalue**2}\")\n",
    "\n",
    "#Plotting line equation on the graph\n",
    "plt.annotate(line_eq,(20,13),fontsize=15,color=\"red\") #(20,30) is x y coordinate on graph where line will start printing\n"
   ]
  },
  {
   "cell_type": "markdown",
   "metadata": {},
   "source": [
    "####  Southern Hemisphere - Wind Speed (mph) vs. Latitude Linear Regression"
   ]
  },
  {
   "cell_type": "code",
   "execution_count": 22,
   "metadata": {},
   "outputs": [
    {
     "name": "stdout",
     "output_type": "stream",
     "text": [
      "R Val is 0.000125904828652334\n"
     ]
    },
    {
     "data": {
      "text/plain": [
       "Text(20, 13, 'y = 0.0x + 3.25')"
      ]
     },
     "execution_count": 22,
     "metadata": {},
     "output_type": "execute_result"
    },
    {
     "data": {
      "image/png": "[encoded data removed]",
      "text/plain": [
       "<Figure size 432x288 with 1 Axes>"
      ]
     },
     "metadata": {
      "needs_background": "light"
     },
     "output_type": "display_data"
    }
   ],
   "source": [
    "south_hem = cities_df_no_null.loc[cities_df_no_null['Lat'] > 0,]\n",
    "\n",
    "plt.scatter(south_hem['Lat'], south_hem['Wind Speed'], marker=\"o\", facecolors=\"dodgerblue\")\n",
    "\n",
    "plt.xlabel('Latitude')\n",
    "plt.ylabel('Wind Speed (mph)')\n",
    "plt.title(\"Southern Hemisphere - Wind Speed (mph) vs. Latitude Linear Regression\")\n",
    "\n",
    "x_values = south_hem['Lat']\n",
    "y_values = south_hem['Wind Speed']\n",
    "\n",
    "(slope, intercept, rvalue, pvalue, stderr) = linregress(x_values, y_values)\n",
    "\n",
    "regress_values = x_values * slope + intercept\n",
    "line_eq = \"y = \" + str(round(slope,2)) + \"x + \" + str(round(intercept,2))\n",
    "\n",
    "plt.plot(x_values,regress_values,\"r-\")\n",
    "\n",
    "#Printing R Value\n",
    "print(f\"R Val is {rvalue**2}\")\n",
    "\n",
    "#Plotting line equation on the graph\n",
    "plt.annotate(line_eq,(20,13),fontsize=15,color=\"red\") #(20,30) is x y coordinate on graph where line will start printing\n"
   ]
  },
  {
   "cell_type": "code",
   "execution_count": null,
   "metadata": {},
   "outputs": [],
   "source": []
  }
 ],
 "metadata": {
  "anaconda-cloud": {},
  "kernel_info": {
   "name": "python3"
  },
  "kernelspec": {
   "display_name": "Python [conda env:PythonData] *",
   "language": "python",
   "name": "conda-env-PythonData-py"
  },
  "language_info": {
   "codemirror_mode": {
    "name": "ipython",
    "version": 3
   },
   "file_extension": ".py",
   "mimetype": "text/x-python",
   "name": "python",
   "nbconvert_exporter": "python",
   "pygments_lexer": "ipython3",
   "version": "3.6.10"
  },
  "latex_envs": {
   "LaTeX_envs_menu_present": true,
   "autoclose": false,
   "autocomplete": true,
   "bibliofile": "biblio.bib",
   "cite_by": "apalike",
   "current_citInitial": 1,
   "eqLabelWithNumbers": true,
   "eqNumInitial": 1,
   "hotkeys": {
    "equation": "Ctrl-E",
    "itemize": "Ctrl-I"
   },
   "labels_anchors": false,
   "latex_user_defs": false,
   "report_style_numbering": false,
   "user_envs_cfg": false
  },
  "nteract": {
   "version": "0.12.3"
  }
 },
 "nbformat": 4,
 "nbformat_minor": 2
}
